{
 "cells": [
  {
   "cell_type": "markdown",
   "id": "8458e0f6-6167-483c-aab0-0b4b37c34b3b",
   "metadata": {},
   "source": [
    "# Midterm Assignment\n",
    "\n",
    "* Model A: Train a binary classifier using transfer learning\n",
    "    * Images downscled to 128x128\n",
    "* Create GAN model\n",
    "    * Train SRGAN to generate 128x128 images.\n",
    "    * Downscale images to 32x32\n",
    "\n",
    "We use the cat vs. dog dataset."
   ]
  },
  {
   "cell_type": "code",
   "execution_count": null,
   "id": "10fb2b29-3454-4e3f-87f6-06a7e93a9bab",
   "metadata": {},
   "outputs": [],
   "source": [
    "import numpy as np\n",
    "import matplotlib.pyplot as plt\n",
    "import seaborn as sns\n",
    "%matplotlib inline\n",
    "\n",
    "import os\n",
    "\n",
    "from sklearn.metrics import confusion_matrix,classification_report\n",
    "\n",
    "import tensorflow as tf\n",
    "from tensorflow import keras\n",
    "from tensorflow.keras.models import Model\n",
    "from tensorflow.keras.layers import Input, Dense, GlobalAveragePooling2D, Dropout\n",
    "from tensorflow.keras.optimizers import Adam\n",
    "from tensorflow.keras.callbacks import EarlyStopping, ReduceLROnPlateau\n",
    "from tensorflow.keras.losses import BinaryCrossentropy\n",
    "from tensorflow.keras.preprocessing.image import ImageDataGenerator\n",
    "from tensorflow.keras.applications import VGG16, ResNet50"
   ]
  },
  {
   "cell_type": "code",
   "execution_count": null,
   "id": "4e422291-72b0-48cd-95f2-fa072048b3e9",
   "metadata": {},
   "outputs": [],
   "source": [
    "train_dataset_path = '/kaggle/input/dogs-cats-images/dataset/training_set/'\n",
    "test_dataset_path = '/kaggle/input/dogs-cats-images/dataset/test_set/'"
   ]
  },
  {
   "cell_type": "code",
   "execution_count": null,
   "id": "d433bac6-c44c-4913-8de2-41bceb7d1dca",
   "metadata": {},
   "outputs": [],
   "source": [
    "BATCH_SIZE = 32\n",
    "IMG_WIDTH = 128\n",
    "IMG_HEIGHT = 128\n",
    "IMG_CHANNELS = 3\n",
    "IMG_SHAPE = (IMG_WIDTH, IMG_HEIGHT, IMG_CHANNELS)\n",
    "\n",
    "print(f\"Batch Size: {BATCH_SIZE}\")\n",
    "print(f\"Image Shape: {IMG_SHAPE}\")"
   ]
  }
 ],
 "metadata": {
  "kernelspec": {
   "display_name": "Python 3 (ipykernel)",
   "language": "python",
   "name": "python3"
  },
  "language_info": {
   "codemirror_mode": {
    "name": "ipython",
    "version": 3
   },
   "file_extension": ".py",
   "mimetype": "text/x-python",
   "name": "python",
   "nbconvert_exporter": "python",
   "pygments_lexer": "ipython3",
   "version": "3.9.6"
  }
 },
 "nbformat": 4,
 "nbformat_minor": 5
}
